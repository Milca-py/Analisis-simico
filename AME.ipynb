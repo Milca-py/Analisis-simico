{
 "cells": [
  {
   "cell_type": "markdown",
   "metadata": {},
   "source": [
    "#### **ANALISIS MODAL ESPECTRAL**\n"
   ]
  },
  {
   "cell_type": "code",
   "execution_count": 701,
   "metadata": {},
   "outputs": [
    {
     "name": "stdout",
     "output_type": "stream",
     "text": [
      "DataFrame de Autovalores:\n",
      "    Autovalores\n",
      "0    246.640737\n",
      "1    297.788707\n",
      "2    664.656274\n",
      "3   5781.294333\n",
      "4   5881.860260\n",
      "5  12917.915199\n",
      "6  12971.766591\n",
      "7  16497.535570\n",
      "8  36462.278877\n",
      "\n",
      "DataFrame de Autovectores:\n",
      "          0         1         2         3         4         5         6  \\\n",
      "0  0.000000  2.285890  0.000000  0.000000 -1.060679  0.679828  0.000000   \n",
      "1  0.000000  1.249110  0.000000  0.000000  1.724667 -1.509221  0.000000   \n",
      "2  0.000000  0.164103  0.000000  0.000000  1.647114  2.018065  0.000000   \n",
      "3  2.295894  0.000000  0.000000 -1.047539  0.000000  0.000000  0.666356   \n",
      "4  1.232058  0.000000  0.000000  1.749799  0.000000  0.000000 -1.494235   \n",
      "5  0.152976  0.000000  0.000000  1.628916  0.000000  0.000000  2.033650   \n",
      "6  0.000000  0.000000  0.005100  0.000000  0.000000  0.000000  0.000000   \n",
      "7  0.000000  0.000000  0.002720  0.000000  0.000000  0.000000  0.000000   \n",
      "8  0.000000  0.000000  0.000306  0.000000  0.000000  0.000000  0.000000   \n",
      "\n",
      "          7         8  \n",
      "0  0.000000  0.000000  \n",
      "1  0.000000  0.000000  \n",
      "2  0.000000  0.000000  \n",
      "3  0.000000  0.000000  \n",
      "4  0.000000  0.000000  \n",
      "5  0.000000  0.000000  \n",
      "6 -0.002302  0.001481  \n",
      "7  0.003913 -0.003286  \n",
      "8  0.003591  0.004529  \n"
     ]
    }
   ],
   "source": [
    "import pandas as pd\n",
    "import numpy as np\n",
    "from scipy.linalg import eigh\n",
    "import matplotlib.pyplot as plt\n",
    "\n",
    "\n",
    "def read_xlsx(file_name: str) -> np.array:\n",
    "    df = pd.read_excel(file_name, header=None)\n",
    "    K = df.to_numpy()\n",
    "    return K\n",
    "\n",
    "\n",
    "# Leer las matrices K y M desde los archivos Excel\n",
    "K = read_xlsx(\"K.xlsx\")\n",
    "M = read_xlsx(\"M.xlsx\")\n",
    "\n",
    "# Calcular autovalores y autovectores\n",
    "autovalores, autovectores = eigh(K, M)\n",
    "\n",
    "# Crear DataFrames para los autovalores y autovectores\n",
    "df_autovalores = pd.DataFrame(autovalores, columns=['Autovalores'])\n",
    "df_autovectores = pd.DataFrame(autovectores)\n",
    "\n",
    "# Mostrar los DataFrames\n",
    "print(\"DataFrame de Autovalores:\")\n",
    "print(df_autovalores)\n",
    "\n",
    "print(\"\\nDataFrame de Autovectores:\")\n",
    "print(df_autovectores)"
   ]
  },
  {
   "cell_type": "code",
   "execution_count": 702,
   "metadata": {},
   "outputs": [
    {
     "name": "stdout",
     "output_type": "stream",
     "text": [
      "Autovectores normalizados al piso 1:\n",
      "      0     1     2     3     4     5     6     7     8\n",
      "0  0.00  1.00  0.00 -0.00  1.00  1.00  0.00 -0.00  0.00\n",
      "1  0.00  0.55  0.00 -0.00 -1.63 -2.22  0.00 -0.00  0.00\n",
      "2  0.00  0.07  0.00 -0.00 -1.55  2.97  0.00 -0.00  0.00\n",
      "3  1.00  0.00  0.00  1.00 -0.00  0.00  1.00 -0.00  0.00\n",
      "4  0.54  0.00  0.00 -1.67 -0.00  0.00 -2.24 -0.00  0.00\n",
      "5  0.07  0.00  0.00 -1.55 -0.00  0.00  3.05 -0.00  0.00\n",
      "6  0.00  0.00  1.00 -0.00 -0.00  0.00  0.00  1.00  1.00\n",
      "7  0.00  0.00  0.53 -0.00 -0.00  0.00  0.00 -1.70 -2.22\n",
      "8  0.00  0.00  0.06 -0.00 -0.00  0.00  0.00 -1.56  3.06\n"
     ]
    }
   ],
   "source": [
    "def read_xlsx(file_name: str) -> np.array:\n",
    "    df = pd.read_excel(file_name, header=None)\n",
    "    K = df.to_numpy()\n",
    "    return K\n",
    "\n",
    "\n",
    "# Leer las matrices K y M desde los archivos Excel\n",
    "K = read_xlsx(\"K.xlsx\")\n",
    "M = read_xlsx(\"M.xlsx\")\n",
    "\n",
    "# Calcular autovalores y autovectores\n",
    "autovalores, autovectores = eigh(K, M)\n",
    "\n",
    "# Normalización de los autovectores al piso 1\n",
    "for i in range(autovectores.shape[1]):\n",
    "    # Buscar el primer valor diferente de cero en el autovector\n",
    "    for j in autovectores[:, i]:\n",
    "        if j != 0:\n",
    "            normalizador = j\n",
    "            break\n",
    "    # Normalizar todo el autovector\n",
    "    autovectores[:, i] = autovectores[:, i] / normalizador\n",
    "\n",
    "# Convertir a DataFrame para visualizar\n",
    "df_autovectores_normalizados = pd.DataFrame(autovectores).round(2)\n",
    "print(\"Autovectores normalizados al piso 1:\")\n",
    "print(df_autovectores_normalizados)"
   ]
  },
  {
   "cell_type": "code",
   "execution_count": 703,
   "metadata": {},
   "outputs": [
    {
     "data": {
      "text/plain": [
       "array([ 15.7047998 ,  17.25655548,  25.78092849,  76.03482316,\n",
       "        76.69328693, 113.65700682, 113.89366352, 128.44273265,\n",
       "       190.95098554])"
      ]
     },
     "execution_count": 703,
     "metadata": {},
     "output_type": "execute_result"
    }
   ],
   "source": [
    "# frecuencias naturales\n",
    "frecuencias_naturales = np.sqrt(autovalores)\n",
    "frecuencias_naturales"
   ]
  },
  {
   "cell_type": "code",
   "execution_count": 704,
   "metadata": {},
   "outputs": [
    {
     "data": {
      "text/plain": [
       "array([0.40008057, 0.36410426, 0.24371447, 0.08263563, 0.08192614,\n",
       "       0.05528199, 0.05516712, 0.04891818, 0.0329047 ])"
      ]
     },
     "execution_count": 704,
     "metadata": {},
     "output_type": "execute_result"
    }
   ],
   "source": [
    "# periodos de vibración\n",
    "periodos_vibracion = 2 * np.pi / frecuencias_naturales\n",
    "periodos_vibracion"
   ]
  },
  {
   "cell_type": "code",
   "execution_count": 705,
   "metadata": {},
   "outputs": [
    {
     "name": "stdout",
     "output_type": "stream",
     "text": [
      "Factor de participación Li:\n",
      "[ 0.23534178  0.          0.         -0.32666158  0.          0.\n",
      "  0.26561459  0.          0.        ]\n"
     ]
    }
   ],
   "source": [
    "import numpy as np\n",
    "\n",
    "# Suponiendo que 'autovectores' y 'M' ya están definidos\n",
    "\n",
    "# Inicialización de la variable para almacenar el factor de participación\n",
    "Li = np.zeros(autovectores.shape[1])\n",
    "influencia = [0, 0, 0, 1, 1, 1, 0, 0, 0]\n",
    "# Cálculo del factor de participación Li para cada autovector\n",
    "for i in range(autovectores.shape[1]):\n",
    "    # Cálculo del factor de participación Li\n",
    "    Li[i] = (autovectores[:, i].T @ M @ influencia)\n",
    "\n",
    "# Li contiene el factor de participación para cada autovector\n",
    "print(\"Factor de participación Li:\")\n",
    "print(Li)"
   ]
  },
  {
   "cell_type": "code",
   "execution_count": 706,
   "metadata": {},
   "outputs": [
    {
     "data": {
      "text/plain": [
       "array([1.89712623e-01, 1.91376782e-01, 3.84426544e+04, 9.11295833e-01,\n",
       "       8.88857742e-01, 2.16372318e+00, 2.25209523e+00, 1.88748217e+05,\n",
       "       4.55941642e+05])"
      ]
     },
     "execution_count": 706,
     "metadata": {},
     "output_type": "execute_result"
    }
   ],
   "source": [
    "# Mi=Φ'.M.Φ  (masa generalizada)\n",
    "Mi = np.zeros(autovectores.shape[1])\n",
    "for i in range(autovectores.shape[1]):\n",
    "    Mi[i] = np.dot(autovectores[:, i], np.dot(M, autovectores[:, i]))\n",
    "Mi"
   ]
  },
  {
   "cell_type": "code",
   "execution_count": 707,
   "metadata": {},
   "outputs": [
    {
     "data": {
      "text/plain": [
       "array([0.29194553, 0.        , 0.        , 0.11709457, 0.        ,\n",
       "       0.        , 0.03132688, 0.        , 0.        ])"
      ]
     },
     "execution_count": 707,
     "metadata": {},
     "output_type": "execute_result"
    }
   ],
   "source": [
    "# Li^2/Mi (factor masa participacion)\n",
    "Li_masa = Li ** 2 / Mi\n",
    "Li_masa"
   ]
  },
  {
   "cell_type": "code",
   "execution_count": 708,
   "metadata": {},
   "outputs": [
    {
     "data": {
      "text/plain": [
       "array([0.66295964, 0.        , 0.        , 0.26590224, 0.        ,\n",
       "       0.        , 0.07113812, 0.        , 0.        ])"
      ]
     },
     "execution_count": 708,
     "metadata": {},
     "output_type": "execute_result"
    }
   ],
   "source": [
    "# Li_masa es el array que contiene los factores de participación de masa (Li)\n",
    "\n",
    "porcentaje_masa_participativa = Li_masa / np.sum(Li_masa)\n",
    "\n",
    "porcentaje_masa_participativa"
   ]
  },
  {
   "cell_type": "code",
   "execution_count": 709,
   "metadata": {},
   "outputs": [
    {
     "data": {
      "text/plain": [
       "array([91.96875, 91.96875, 91.96875, 91.96875, 91.96875, 91.96875,\n",
       "       91.96875, 91.96875, 91.96875])"
      ]
     },
     "execution_count": 709,
     "metadata": {},
     "output_type": "execute_result"
    }
   ],
   "source": [
    "import numpy as np\n",
    "\n",
    "\n",
    "def calcular_espectro_E030_PERU(Tn, Z, S, R, U, Tp, Tl):\n",
    "    \"\"\"\n",
    "    Calcula el espectro de diseño para una lista de periodos de vibración.\n",
    "\n",
    "    Parameters:\n",
    "    - Tn: Lista de periodos de vibración.\n",
    "    - Z: Zona sísmica.\n",
    "    - S: Factor de tipo de suelo.\n",
    "    - R: Coeficiente de reducción de fuerzas sísmicas.\n",
    "    - U: Factor de uso.\n",
    "    - Tp: Periodo de corte.\n",
    "    - Tl: Periodo límite.\n",
    "\n",
    "    Returns:\n",
    "    - Lista de espectros de diseño.\n",
    "    \"\"\"\n",
    "    # Cálculo del espectro base\n",
    "    espectro_base = (Z * U * S) / R\n",
    "\n",
    "    # Calcular espectro para cada periodo de vibración\n",
    "    espectro = []\n",
    "    for tn in Tn:\n",
    "        if tn < Tp:\n",
    "            C = 2.5\n",
    "        elif Tp <= tn <= Tl:\n",
    "            C = 2.5 * (Tp / tn)\n",
    "        else:  # tn > Tl\n",
    "            C = 2.5 * ((Tp * Tl) / tn**2)\n",
    "\n",
    "        espectro_value = espectro_base * C * 981\n",
    "        espectro.append(espectro_value)\n",
    "\n",
    "    return np.array(espectro)\n",
    "\n",
    "\n",
    "# Valores proporcionados\n",
    "Z = 0.25\n",
    "S = 1.2\n",
    "R = 8\n",
    "U = 1\n",
    "Tp = 0.6\n",
    "Tl = 2\n",
    "\n",
    "\n",
    "# Calcular el espectro\n",
    "espectroSa = calcular_espectro_E030_PERU(\n",
    "    periodos_vibracion, Z, S, R, U, Tp, Tl)\n",
    "\n",
    "espectroSa\n",
    "# # Mostrar resultados\n",
    "# print(\"Espectro de diseño para los periodos de vibración:\")\n",
    "# for tn, value in zip(Tn, espectro):\n",
    "#     print(f\"Periodo: {tn} s, Espectro: {value:.2f}\")"
   ]
  },
  {
   "cell_type": "code",
   "execution_count": 710,
   "metadata": {},
   "outputs": [
    {
     "data": {
      "image/png": "[encoded data removed]",
      "text/plain": [
       "<Figure size 640x480 with 1 Axes>"
      ]
     },
     "metadata": {},
     "output_type": "display_data"
    }
   ],
   "source": [
    "Periodos_plot = np.arange(0, 12, 0.1)\n",
    "espectros = calcular_espectro_E030_PERU(Periodos_plot, Z, S, R, U, Tp, Tl)/981\n",
    "\n",
    "plt.plot(Periodos_plot, espectros, linestyle='-', linewidth=2, color='r',\n",
    "         label='Espectro de Diseño E030 Peru')\n",
    "plt.xlabel('Periodo (s)')\n",
    "plt.ylabel('Aceleracion (a/g)')\n",
    "plt.title('Espectro de Diseño E030 Peru')\n",
    "plt.grid(True)\n",
    "plt.legend()\n",
    "plt.show()\n",
    "# espectros"
   ]
  },
  {
   "cell_type": "code",
   "execution_count": 711,
   "metadata": {},
   "outputs": [
    {
     "data": {
      "text/plain": [
       "array([0.37288548, 0.30883894, 0.13837039, 0.01590799, 0.015636  ,\n",
       "       0.00711947, 0.00708992, 0.0055747 , 0.0025223 ])"
      ]
     },
     "execution_count": 711,
     "metadata": {},
     "output_type": "execute_result"
    }
   ],
   "source": [
    "# espectro de diseño de desplazamiento\n",
    "espectroSd = espectroSa / (2 * np.pi / periodos_vibracion)**2\n",
    "espectroSd"
   ]
  },
  {
   "cell_type": "markdown",
   "metadata": {},
   "source": [
    "#### **deformaciones**\n"
   ]
  },
  {
   "cell_type": "code",
   "execution_count": 712,
   "metadata": {},
   "outputs": [],
   "source": [
    "# # Calcular deformaciones\n",
    "# deforaciones = []\n",
    "# for i in range(autovectores.shape[1]):\n",
    "#     deforacion = autovectores[:, i] * Li[i] * espectroSd[i] / Mi[i]\n",
    "#     deforaciones.append(deforacion)\n",
    "# deforaciones = np.array(deforaciones).T\n",
    "# # Convertir deformaciones a DataFrame\n",
    "# df_deforaciones = pd.DataFrame(deforaciones).round(2)\n",
    "\n",
    "# # Calcular la suma absoluta de todos los elementos de cada fila\n",
    "# suma_absoluta_filas = df_deforaciones.abs().sum(axis=1)\n",
    "\n",
    "# # Agregar la columna de suma absoluta al DataFrame\n",
    "# df_deforaciones['Suma Absoluta'] = suma_absoluta_filas\n",
    "\n",
    "# # Mostrar el DataFrame actualizado\n",
    "# print(\"DataFrame de Deformaciones con Suma Absoluta de Filas:\")\n",
    "# print(df_deforaciones)"
   ]
  },
  {
   "cell_type": "code",
   "execution_count": 713,
   "metadata": {},
   "outputs": [
    {
     "name": "stdout",
     "output_type": "stream",
     "text": [
      "DataFrame de Deformaciones con Suma Absoluta, SRSS y CQC:\n",
      "      0    1    2     3    4    5    6    7    8  Suma Absoluta  SRSS   CQC\n",
      "0  0.00  0.0  0.0  0.00  0.0  0.0  0.0 -0.0  0.0           0.00  0.00  0.00\n",
      "1  0.00  0.0  0.0  0.00 -0.0 -0.0  0.0 -0.0  0.0           0.00  0.00  0.00\n",
      "2  0.00  0.0  0.0  0.00 -0.0  0.0  0.0 -0.0  0.0           0.00  0.00  0.00\n",
      "3  0.46  0.0  0.0 -0.01 -0.0  0.0  0.0 -0.0  0.0           0.47  0.46  0.46\n",
      "4  0.25  0.0  0.0  0.01 -0.0  0.0 -0.0 -0.0  0.0           0.26  0.25  0.26\n",
      "5  0.03  0.0  0.0  0.01 -0.0  0.0  0.0 -0.0  0.0           0.04  0.03  0.04\n",
      "6  0.00  0.0  0.0  0.00 -0.0  0.0  0.0  0.0  0.0           0.00  0.00  0.00\n",
      "7  0.00  0.0  0.0  0.00 -0.0  0.0  0.0 -0.0 -0.0           0.00  0.00  0.00\n",
      "8  0.00  0.0  0.0  0.00 -0.0  0.0  0.0 -0.0  0.0           0.00  0.00  0.00\n"
     ]
    }
   ],
   "source": [
    "import numpy as np\n",
    "import pandas as pd\n",
    "\n",
    "# Calcular deformaciones\n",
    "deformaciones = []\n",
    "for i in range(autovectores.shape[1]):\n",
    "    deformacion = autovectores[:, i] * Li[i] * espectroSd[i] / Mi[i]\n",
    "    deformaciones.append(deformacion)\n",
    "deformaciones = np.array(deformaciones).T\n",
    "\n",
    "# Convertir deformaciones a DataFrame\n",
    "df_deformaciones = pd.DataFrame(deformaciones).round(2)\n",
    "\n",
    "# Calcular la suma absoluta de todos los elementos de cada fila\n",
    "suma_absoluta_filas = df_deformaciones.abs().sum(axis=1)\n",
    "\n",
    "# Calcular SRSS (Suma de Raíces Cuadradas)\n",
    "SRSS = np.sqrt((df_deformaciones ** 2).sum(axis=1))\n",
    "\n",
    "# Calcular CQC (Combinación Cuadrática Completa)\n",
    "\n",
    "\n",
    "def CQC(df):\n",
    "    n_modes = df.shape[1]\n",
    "    cqc = []\n",
    "    for i in range(df.shape[0]):\n",
    "        suma = 0\n",
    "        for j in range(n_modes):\n",
    "            for k in range(n_modes):\n",
    "                suma += df.iloc[i, j] * df.iloc[i, k] * (1 if j == k else 0.5)\n",
    "        cqc.append(np.sqrt(suma))\n",
    "    return np.array(cqc)\n",
    "\n",
    "\n",
    "CQC_values = CQC(df_deformaciones)\n",
    "\n",
    "# Agregar las columnas de combinaciones y suma absoluta al DataFrame\n",
    "df_deformaciones['Suma Absoluta'] = suma_absoluta_filas.round(2)\n",
    "df_deformaciones['SRSS'] = SRSS.round(2)\n",
    "df_deformaciones['CQC'] = CQC_values.round(2)\n",
    "\n",
    "# Mostrar el DataFrame actualizado\n",
    "print(\"DataFrame de Deformaciones con Suma Absoluta, SRSS y CQC:\")\n",
    "print(df_deformaciones)"
   ]
  },
  {
   "cell_type": "markdown",
   "metadata": {},
   "source": [
    "#### **Calcular fuerzas de entrepiso**\n"
   ]
  },
  {
   "cell_type": "code",
   "execution_count": 714,
   "metadata": {},
   "outputs": [],
   "source": [
    "# # Calcular fuerzas de entrepiso FI = (M.Φ[i]).Li[i]*Sa[i]/Mi[i]\n",
    "# fuerzas_entrepiso = []\n",
    "# for i in range(autovectores.shape[1]):\n",
    "#     fuerza_entrepiso = np.dot(\n",
    "#         M, autovectores[:, i]) * Li[i] * espectroSa[i] / Mi[i]\n",
    "#     fuerzas_entrepiso.append(fuerza_entrepiso)\n",
    "# fuerzas_entrepiso = np.array(fuerzas_entrepiso).T\n",
    "# # Convertir fuerzas cortantes a DataFrame\n",
    "# df_fuerzas_cortantes = pd.DataFrame(fuerzas_entrepiso).round(2)\n",
    "\n",
    "# # Calcular la suma absoluta de todos los elementos de cada fila\n",
    "# suma_absoluta_filas = df_fuerzas_cortantes.abs().sum(axis=1)\n",
    "\n",
    "# # Agregar la columna de suma absoluta al DataFrame\n",
    "# df_fuerzas_cortantes['Suma Absoluta'] = suma_absoluta_filas\n",
    "\n",
    "# # Mostrar el DataFrame actualizado\n",
    "# print(\"DataFrame de Fuerzas de entrepiso con Suma Absoluta de Filas:\")\n",
    "# print(df_fuerzas_cortantes)"
   ]
  },
  {
   "cell_type": "code",
   "execution_count": 715,
   "metadata": {},
   "outputs": [
    {
     "name": "stdout",
     "output_type": "stream",
     "text": [
      "DataFrame de Fuerzas de entrepiso con Suma Absoluta, SRSS y CQC:\n",
      "       0    1    2     3    4    5     6    7    8  Suma Absoluta   SRSS  \\\n",
      "0   0.00  0.0  0.0 -0.00  0.0  0.0  0.00  0.0  0.0           0.00   0.00   \n",
      "1   0.00  0.0  0.0 -0.00 -0.0 -0.0  0.00  0.0  0.0           0.00   0.00   \n",
      "2   0.00  0.0  0.0 -0.00 -0.0  0.0  0.00  0.0  0.0           0.00   0.00   \n",
      "3  16.75  0.0  0.0 -4.84  0.0  0.0  1.59  0.0  0.0          23.18  17.51   \n",
      "4   8.99  0.0  0.0  8.08  0.0  0.0 -3.57  0.0  0.0          20.64  12.60   \n",
      "5   1.12  0.0  0.0  7.52  0.0  0.0  4.86  0.0  0.0          13.50   9.02   \n",
      "6   0.00  0.0  0.0 -0.00  0.0  0.0  0.00  0.0  0.0           0.00   0.00   \n",
      "7   0.00  0.0  0.0 -0.00  0.0  0.0  0.00 -0.0 -0.0           0.00   0.00   \n",
      "8   0.00  0.0  0.0 -0.00  0.0  0.0  0.00 -0.0  0.0           0.00   0.00   \n",
      "\n",
      "     CQC  \n",
      "0   0.00  \n",
      "1   0.00  \n",
      "2   0.00  \n",
      "3  15.63  \n",
      "4  13.06  \n",
      "5  11.48  \n",
      "6   0.00  \n",
      "7   0.00  \n",
      "8   0.00  \n"
     ]
    }
   ],
   "source": [
    "import numpy as np\n",
    "import pandas as pd\n",
    "\n",
    "# Calcular fuerzas de entrepiso FI = (M.Φ[i]).Li[i]*Sa[i]/Mi[i]\n",
    "fuerzas_entrepiso = []\n",
    "for i in range(autovectores.shape[1]):\n",
    "    fuerza_entrepiso = np.dot(\n",
    "        M, autovectores[:, i]) * Li[i] * espectroSa[i] / Mi[i]\n",
    "    fuerzas_entrepiso.append(fuerza_entrepiso)\n",
    "fuerzas_entrepiso = np.array(fuerzas_entrepiso).T\n",
    "\n",
    "# Convertir fuerzas cortantes a DataFrame\n",
    "df_fuerzas_cortantes = pd.DataFrame(fuerzas_entrepiso).round(2)\n",
    "\n",
    "# Calcular la suma absoluta de todos los elementos de cada fila\n",
    "suma_absoluta_filas = df_fuerzas_cortantes.abs().sum(axis=1)\n",
    "\n",
    "# Calcular SRSS (Suma de Raíces Cuadradas)\n",
    "SRSS = np.sqrt((df_fuerzas_cortantes ** 2).sum(axis=1))\n",
    "\n",
    "# Calcular CQC (Combinación Cuadrática Completa)\n",
    "\n",
    "\n",
    "def CQC(df):\n",
    "    n_modes = df.shape[1]\n",
    "    cqc = []\n",
    "    for i in range(df.shape[0]):\n",
    "        suma = 0\n",
    "        for j in range(n_modes):\n",
    "            for k in range(n_modes):\n",
    "                suma += df.iloc[i, j] * df.iloc[i, k] * (1 if j == k else 0.5)\n",
    "        cqc.append(np.sqrt(suma))\n",
    "    return np.array(cqc)\n",
    "\n",
    "\n",
    "CQC_values = CQC(df_fuerzas_cortantes)\n",
    "\n",
    "# Agregar las columnas de combinaciones y suma absoluta al DataFrame\n",
    "df_fuerzas_cortantes['Suma Absoluta'] = suma_absoluta_filas.round(2)\n",
    "df_fuerzas_cortantes['SRSS'] = SRSS.round(2)\n",
    "df_fuerzas_cortantes['CQC'] = CQC_values.round(2)\n",
    "\n",
    "# Mostrar el DataFrame actualizado\n",
    "print(\"DataFrame de Fuerzas de entrepiso con Suma Absoluta, SRSS y CQC:\")\n",
    "print(df_fuerzas_cortantes)"
   ]
  },
  {
   "cell_type": "markdown",
   "metadata": {},
   "source": [
    "#### **Fuerzas cortantes de entrepiso**\n"
   ]
  },
  {
   "cell_type": "code",
   "execution_count": 716,
   "metadata": {},
   "outputs": [
    {
     "name": "stdout",
     "output_type": "stream",
     "text": [
      "DataFrame de Fuerzas Cortantes de Entrepiso con Suma Absoluta, SRSS y CQC:\n",
      "       0    1    2      3    4    5     6    7    8  Suma Absoluta   SRSS  \\\n",
      "0   0.00  0.0  0.0   0.00  0.0  0.0  0.00  0.0  0.0            0.0   0.00   \n",
      "1   0.00  0.0  0.0   0.00  0.0  0.0  0.00  0.0  0.0            0.0   0.00   \n",
      "2   0.00  0.0  0.0   0.00  0.0  0.0  0.00  0.0  0.0            0.0   0.00   \n",
      "3  26.85  0.0  0.0  10.77  0.0  0.0  2.88  0.0  0.0           40.5  29.07   \n",
      "4  10.10  0.0  0.0  15.61  0.0  0.0  1.29  0.0  0.0           27.0  18.64   \n",
      "5   1.12  0.0  0.0   7.52  0.0  0.0  4.86  0.0  0.0           13.5   9.02   \n",
      "6   0.00  0.0  0.0   0.00  0.0  0.0  0.00  0.0  0.0            0.0   0.00   \n",
      "7   0.00  0.0  0.0   0.00  0.0  0.0  0.00  0.0  0.0            0.0   0.00   \n",
      "8   0.00  0.0  0.0   0.00  0.0  0.0  0.00  0.0  0.0            0.0   0.00   \n",
      "\n",
      "     CQC  \n",
      "0   0.00  \n",
      "1   0.00  \n",
      "2   0.00  \n",
      "3  35.25  \n",
      "4  23.20  \n",
      "5  11.48  \n",
      "6   0.00  \n",
      "7   0.00  \n",
      "8   0.00  \n"
     ]
    }
   ],
   "source": [
    "import numpy as np\n",
    "import pandas as pd\n",
    "\n",
    "\n",
    "def calcular_fuerzas_cortantes_entrepiso(fuerzas_entrepiso):\n",
    "    # Convertir la lista de listas a una matriz de numpy\n",
    "    matriz = np.array(fuerzas_entrepiso)\n",
    "\n",
    "    # Obtener el número de filas y columnas\n",
    "    filas, columnas = matriz.shape\n",
    "\n",
    "    # Crear una matriz de ceros del mismo tamaño para el resultado\n",
    "    fuerzas_cortantes_entrepiso = np.zeros((filas, columnas))\n",
    "\n",
    "    # Iterar sobre cada columna\n",
    "    for col in range(columnas):\n",
    "        suma_acumulativa = 0\n",
    "        for row in range(filas-1, -1, -1):\n",
    "            if matriz[row, col] != 0:\n",
    "                suma_acumulativa += matriz[row, col]\n",
    "                fuerzas_cortantes_entrepiso[row, col] = suma_acumulativa\n",
    "\n",
    "    return fuerzas_cortantes_entrepiso\n",
    "\n",
    "\n",
    "# Calcular fuerzas cortantes de entrepiso\n",
    "fuerzas_cortantes_entrepiso = calcular_fuerzas_cortantes_entrepiso(\n",
    "    fuerzas_entrepiso)\n",
    "\n",
    "# Convertir fuerzas cortantes a DataFrame\n",
    "df_fuerzas_cortantes_entrepiso = pd.DataFrame(\n",
    "    fuerzas_cortantes_entrepiso).round(2)\n",
    "\n",
    "# Calcular la suma absoluta de todos los elementos de cada fila\n",
    "suma_absoluta_filas = df_fuerzas_cortantes_entrepiso.abs().sum(axis=1)\n",
    "\n",
    "# Calcular SRSS (Suma de Raíces Cuadradas)\n",
    "SRSS = np.sqrt((df_fuerzas_cortantes_entrepiso ** 2).sum(axis=1))\n",
    "\n",
    "# Calcular CQC (Combinación Cuadrática Completa)\n",
    "\n",
    "\n",
    "def CQC(df):\n",
    "    n_modes = df.shape[1]\n",
    "    cqc = []\n",
    "    for i in range(df.shape[0]):\n",
    "        suma = 0\n",
    "        for j in range(n_modes):\n",
    "            for k in range(n_modes):\n",
    "                suma += df.iloc[i, j] * df.iloc[i, k] * (1 if j == k else 0.5)\n",
    "        cqc.append(np.sqrt(suma))\n",
    "    return np.array(cqc)\n",
    "\n",
    "\n",
    "CQC_values = CQC(df_fuerzas_cortantes_entrepiso)\n",
    "\n",
    "# Agregar las columnas de combinaciones y suma absoluta al DataFrame\n",
    "df_fuerzas_cortantes_entrepiso['Suma Absoluta'] = suma_absoluta_filas.round(2)\n",
    "df_fuerzas_cortantes_entrepiso['SRSS'] = SRSS.round(2)\n",
    "df_fuerzas_cortantes_entrepiso['CQC'] = CQC_values.round(2)\n",
    "\n",
    "# Mostrar el DataFrame actualizado\n",
    "print(\"DataFrame de Fuerzas Cortantes de Entrepiso con Suma Absoluta, SRSS y CQC:\")\n",
    "print(df_fuerzas_cortantes_entrepiso)"
   ]
  }
 ],
 "metadata": {
  "kernelspec": {
   "display_name": "Python 3",
   "language": "python",
   "name": "python3"
  },
  "language_info": {
   "codemirror_mode": {
    "name": "ipython",
    "version": 3
   },
   "file_extension": ".py",
   "mimetype": "text/x-python",
   "name": "python",
   "nbconvert_exporter": "python",
   "pygments_lexer": "ipython3",
   "version": "3.9.13"
  }
 },
 "nbformat": 4,
 "nbformat_minor": 2
}
